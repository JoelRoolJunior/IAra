{
 "cells": [
  {
   "cell_type": "code",
   "execution_count": null,
   "id": "be73c5d4",
   "metadata": {},
   "outputs": [],
   "source": [
    "# !pip install tiktoken\n",
    "# !pip install transformers[torch]\n",
    "# !pip install scikit-learn"
   ]
  },
  {
   "cell_type": "markdown",
   "id": "f547b935",
   "metadata": {},
   "source": [
    "# **Importações**"
   ]
  },
  {
   "cell_type": "code",
   "execution_count": 68,
   "id": "b72d2b11",
   "metadata": {},
   "outputs": [],
   "source": [
    "import pandas as pd\n",
    "import numpy as np\n",
    "from matplotlib import pyplot as plt\n",
    "import tiktoken # type: ignore\n",
    "import nltk\n",
    "from nltk.tokenize import word_tokenize\n",
    "import ast\n",
    "from sklearn.model_selection import train_test_split\n",
    "from sklearn.metrics import classification_report"
   ]
  },
  {
   "cell_type": "markdown",
   "id": "8ba961a3",
   "metadata": {},
   "source": [
    "# **Criação de arquivo tokenizado**"
   ]
  },
  {
   "cell_type": "markdown",
   "id": "92312c0f",
   "metadata": {},
   "source": [
    "## **Leitura dos dados**"
   ]
  },
  {
   "cell_type": "code",
   "execution_count": null,
   "id": "e9385690",
   "metadata": {},
   "outputs": [],
   "source": [
    "news = pd.read_csv(r'..\\AI\\preprocessed\\pre-processed.csv')\n",
    "news = news.drop(columns=['index'])"
   ]
  },
  {
   "cell_type": "code",
   "execution_count": 15,
   "id": "86d7d292",
   "metadata": {},
   "outputs": [
    {
     "data": {
      "application/vnd.microsoft.datawrangler.viewer.v0+json": {
       "columns": [
        {
         "name": "index",
         "rawType": "int64",
         "type": "integer"
        },
        {
         "name": "label",
         "rawType": "object",
         "type": "string"
        },
        {
         "name": "preprocessed_news",
         "rawType": "object",
         "type": "string"
        }
       ],
       "conversionMethod": "pd.DataFrame",
       "ref": "48814052-b9a7-40c6-bdb7-7694a444ad0e",
       "rows": [
        [
         "0",
         "fake",
         "katia abreu diz vai colocar expulsao moldura nao reclamar senadora katia abreu disse expulsao pmdb resultado acao cupula atual legenda segundo oportunista amanha vou botar moldura dourada expulsao porque maos onde veio atestado boa conduta curriculo pessoas expulsaram nao servem pais servem pais beneficios proprios disse katia abreu ue expulsao algo tao bom curriculo tanta choradeira katia sabemos motivo provavelmente katia nao valor pt partido ja deveria absorvido parece pt gostava katia somente ficasse entrincheirada dentro pmdb rebaixar demais resta katia ficar chorando pitangas todos cantos tempo ate momento pt nao cadastrou katia abreu fileiras situacao patetica agricultura dilma"
        ],
        [
         "1",
         "fake",
         "ray peita bolsonaro conservador fake entrevista danilo gentili divide direita site vem avisando jair bolsonaro deveria abandonar pauta estatista vez fazer discurso convincente boa parte liberais conservadores brasil querem ver livres amarras estatais tudo bem pesquisas ainda dizem maior parte povo contra privatizacoes indice pouco povo facil ser revertido ademais bolsonaro deveria falar direitistas vez focar tanto petistas arrependidos recentemente disse pensaria vezes antes privatizar petrobras nao caia maos chineses algo tipo deveria ter dito garanto privatizacao petrobras tambem garanto chineses nao irao nao deixaria brechas jeito falou parece suposto medo venda chineses pretexto evitar privatizacao la direita vai ter adotar alternativas foquem estado reduzido diminuicao impostos venda estatais alem joao amoedo rey fazendo vicejar tipo discurso ainda candidatura fase inicial complicado bolsonaro aparecam pessoas direita propondo visao economicamente direitista economia enfim veja rey espinafrando bolsonaro brechas nao pode reclamar outros aproveitem nao"
        ],
        [
         "2",
         "fake",
         "reinaldo azevedo desmascarado policia federal ferrenho critico presidenciavel jair bolsonaro desmascarado grampo telefonico conversas irma aecio neves conversa debochavam juiz sergio moro operacao lava jato agora ficou clara intencao jornalista fazer defesas tao ferrenhas tucanos colunas veja jovem pan amigo intimo familia neves alto tucanato fazia propaganda psdbista inves jornalismo jornalista reinaldo azevedo conversa andrea neves irma senador afastado aecio neves interceptada policia federal assunto tratado sao acusacoes contra aecio contidas delacao odebrecht dialogo classificou reportagem revista veja onde trabalhava demitido nojenta referia edicao trouxe aecio capa titulo vez aecio reinaldo criticou tambem republica rodrigo janot dizia janot atacava aecio supostas pretensoes candidatar governo minas gerais senado assim conversa divulgada colunista demitido veja esperar fez vitima ha agressao garantias profissao menos crime sendo cometido sigilo conversa jornalista fonte pilares jornalismo escreveu gravacoes anexadas republica conjunto audios anexados inquerito provocou afastamento aecio prisao irma sabe breve poderemos ver reinaldo fazendo companhia amigo tucano cadeia"
        ],
        [
         "3",
         "fake",
         "relatorio assustador bndes mostra dinheiro publico brasil jorrando paises comunistas relatorio intitulado bndes transformado robin hood avessas mostra bndes influenciado governo petista conseguiu beneficiar pequeno percentual empresas escolhidas dedo afundou instituicao dividas astronomicas autoria deputada cristiane brasil documento apresentado cpi bndes mostra pt apossou banco conceder beneficios paises comunistas trecho documento destaca existencia contratos secretos suspeitas pratica atos corrupcao criacao empresas fachada beneficiar paises cuba angola venezuela republica dominicana guatemala outros cristiane apontou gama irregularidades concessao creditos relatou nao respeito procedimentos propria instituicao tampouco leis regulamentam operacoes precisamos urgentemente derrubar sigilo desses contratos secretos desmascarar vez pilantragem feita dinheiro publico abaixo resumo documento texto oficial voce pode conferir site camara federal ha diversas suspeitas irregularidades area internacional sendo auditadas contratos cerca r milhoes aprovados diretoria respectiva poucos paragrafos utilizacao termos genericos abstratos analise especifica sobre obra sera realizada pedidos financiamento realizacao obras distintas paises diferentes sao aprovados praticamente mesma fundamentacao utilizacao mesmas expressoes qualquer indicativo nacoes obras serem realizadas sao distintas ocorre exemplo comparamos processos concessao financiamento obras realizadas guatemala republica dominicana embora tratem obras paises diversos fundamentacao concessao respectivos emprestimos praticamente mesma afirmando contrato produzira fomento porque ajudara pais exportar divisas sic servicos nenhum momento relatorios indicam quais serao beneficios sociais pais projeto nao ha mencao sobre numero empregos serao gerados brasil menos efeito operacao tera parque industrial brasileiro maior detalhamento poderia ser adotado bndes melhorar transparencia governanca ademais caso operacoes venezuela ha processo andamento tcu proposta aplicacao multa bndes pese pratica corriqueira banco decisoes finais acerca financiamento aprovadas conselho administrativo tcu vem entendendo diretoria respectiva pode ser responsabilizada decisoes orgao controle aponta ainda falta registro arquivos banco fundamentacoes decisoes conselho critica classifica parecer oral sobre financiamentos determinados relatorios decisoes diretoria alguns erros digitacao implicaram celebracao contratos valores financiamento inferiores pretendidos supostas falhas transcricao documentos culminou erro autorizacao prazo deferido financiamento corpo tecnico bndes demonstre alta capacidade falhas comprometem qualidade procedimento ha questione nao caso mera chancela decisoes previamente tomadas instancias superiores governos sucessivos pt favorecimento amigos rei brahma outro lado revisao dessas praticas aprimorara transparencia lisura instituicao"
        ],
        [
         "4",
         "fake",
         "radialista americano fala sobre pt vendem ilusao povo brasileiro so pensam divertir sitio radialista americano alex jones chorou falar criancas saude brasil jones citou microcefalia espalha mundo partir descaso crise politica esquerda nao faz nada so vendem ilusoes sei deveria disse jones fim video radialista falou sobre surto microcefalia nao conteve caiu lagrimas criancas nao amparo precisamos pessoas boas ajudar pessoas deixaram microcefalia crescer nesse pais"
        ]
       ],
       "shape": {
        "columns": 2,
        "rows": 5
       }
      },
      "text/html": [
       "<div>\n",
       "<style scoped>\n",
       "    .dataframe tbody tr th:only-of-type {\n",
       "        vertical-align: middle;\n",
       "    }\n",
       "\n",
       "    .dataframe tbody tr th {\n",
       "        vertical-align: top;\n",
       "    }\n",
       "\n",
       "    .dataframe thead th {\n",
       "        text-align: right;\n",
       "    }\n",
       "</style>\n",
       "<table border=\"1\" class=\"dataframe\">\n",
       "  <thead>\n",
       "    <tr style=\"text-align: right;\">\n",
       "      <th></th>\n",
       "      <th>label</th>\n",
       "      <th>preprocessed_news</th>\n",
       "    </tr>\n",
       "  </thead>\n",
       "  <tbody>\n",
       "    <tr>\n",
       "      <th>0</th>\n",
       "      <td>fake</td>\n",
       "      <td>katia abreu diz vai colocar expulsao moldura n...</td>\n",
       "    </tr>\n",
       "    <tr>\n",
       "      <th>1</th>\n",
       "      <td>fake</td>\n",
       "      <td>ray peita bolsonaro conservador fake entrevist...</td>\n",
       "    </tr>\n",
       "    <tr>\n",
       "      <th>2</th>\n",
       "      <td>fake</td>\n",
       "      <td>reinaldo azevedo desmascarado policia federal ...</td>\n",
       "    </tr>\n",
       "    <tr>\n",
       "      <th>3</th>\n",
       "      <td>fake</td>\n",
       "      <td>relatorio assustador bndes mostra dinheiro pub...</td>\n",
       "    </tr>\n",
       "    <tr>\n",
       "      <th>4</th>\n",
       "      <td>fake</td>\n",
       "      <td>radialista americano fala sobre pt vendem ilus...</td>\n",
       "    </tr>\n",
       "  </tbody>\n",
       "</table>\n",
       "</div>"
      ],
      "text/plain": [
       "  label                                  preprocessed_news\n",
       "0  fake  katia abreu diz vai colocar expulsao moldura n...\n",
       "1  fake  ray peita bolsonaro conservador fake entrevist...\n",
       "2  fake  reinaldo azevedo desmascarado policia federal ...\n",
       "3  fake  relatorio assustador bndes mostra dinheiro pub...\n",
       "4  fake  radialista americano fala sobre pt vendem ilus..."
      ]
     },
     "execution_count": 15,
     "metadata": {},
     "output_type": "execute_result"
    }
   ],
   "source": [
    "news.head()"
   ]
  },
  {
   "cell_type": "code",
   "execution_count": 16,
   "id": "ee6e2c00",
   "metadata": {},
   "outputs": [],
   "source": [
    "news['class'] = news['label'] == 'true'\n",
    "news['class'] = news['class'].astype(int)"
   ]
  },
  {
   "cell_type": "code",
   "execution_count": 17,
   "id": "07d5d6b0",
   "metadata": {},
   "outputs": [
    {
     "data": {
      "application/vnd.microsoft.datawrangler.viewer.v0+json": {
       "columns": [
        {
         "name": "index",
         "rawType": "int64",
         "type": "integer"
        },
        {
         "name": "label",
         "rawType": "object",
         "type": "string"
        },
        {
         "name": "preprocessed_news",
         "rawType": "object",
         "type": "string"
        },
        {
         "name": "class",
         "rawType": "int32",
         "type": "integer"
        }
       ],
       "conversionMethod": "pd.DataFrame",
       "ref": "f70d98a9-4afc-40fe-b779-5b745d779b8f",
       "rows": [
        [
         "0",
         "fake",
         "katia abreu diz vai colocar expulsao moldura nao reclamar senadora katia abreu disse expulsao pmdb resultado acao cupula atual legenda segundo oportunista amanha vou botar moldura dourada expulsao porque maos onde veio atestado boa conduta curriculo pessoas expulsaram nao servem pais servem pais beneficios proprios disse katia abreu ue expulsao algo tao bom curriculo tanta choradeira katia sabemos motivo provavelmente katia nao valor pt partido ja deveria absorvido parece pt gostava katia somente ficasse entrincheirada dentro pmdb rebaixar demais resta katia ficar chorando pitangas todos cantos tempo ate momento pt nao cadastrou katia abreu fileiras situacao patetica agricultura dilma",
         "0"
        ],
        [
         "1",
         "fake",
         "ray peita bolsonaro conservador fake entrevista danilo gentili divide direita site vem avisando jair bolsonaro deveria abandonar pauta estatista vez fazer discurso convincente boa parte liberais conservadores brasil querem ver livres amarras estatais tudo bem pesquisas ainda dizem maior parte povo contra privatizacoes indice pouco povo facil ser revertido ademais bolsonaro deveria falar direitistas vez focar tanto petistas arrependidos recentemente disse pensaria vezes antes privatizar petrobras nao caia maos chineses algo tipo deveria ter dito garanto privatizacao petrobras tambem garanto chineses nao irao nao deixaria brechas jeito falou parece suposto medo venda chineses pretexto evitar privatizacao la direita vai ter adotar alternativas foquem estado reduzido diminuicao impostos venda estatais alem joao amoedo rey fazendo vicejar tipo discurso ainda candidatura fase inicial complicado bolsonaro aparecam pessoas direita propondo visao economicamente direitista economia enfim veja rey espinafrando bolsonaro brechas nao pode reclamar outros aproveitem nao",
         "0"
        ],
        [
         "2",
         "fake",
         "reinaldo azevedo desmascarado policia federal ferrenho critico presidenciavel jair bolsonaro desmascarado grampo telefonico conversas irma aecio neves conversa debochavam juiz sergio moro operacao lava jato agora ficou clara intencao jornalista fazer defesas tao ferrenhas tucanos colunas veja jovem pan amigo intimo familia neves alto tucanato fazia propaganda psdbista inves jornalismo jornalista reinaldo azevedo conversa andrea neves irma senador afastado aecio neves interceptada policia federal assunto tratado sao acusacoes contra aecio contidas delacao odebrecht dialogo classificou reportagem revista veja onde trabalhava demitido nojenta referia edicao trouxe aecio capa titulo vez aecio reinaldo criticou tambem republica rodrigo janot dizia janot atacava aecio supostas pretensoes candidatar governo minas gerais senado assim conversa divulgada colunista demitido veja esperar fez vitima ha agressao garantias profissao menos crime sendo cometido sigilo conversa jornalista fonte pilares jornalismo escreveu gravacoes anexadas republica conjunto audios anexados inquerito provocou afastamento aecio prisao irma sabe breve poderemos ver reinaldo fazendo companhia amigo tucano cadeia",
         "0"
        ],
        [
         "3",
         "fake",
         "relatorio assustador bndes mostra dinheiro publico brasil jorrando paises comunistas relatorio intitulado bndes transformado robin hood avessas mostra bndes influenciado governo petista conseguiu beneficiar pequeno percentual empresas escolhidas dedo afundou instituicao dividas astronomicas autoria deputada cristiane brasil documento apresentado cpi bndes mostra pt apossou banco conceder beneficios paises comunistas trecho documento destaca existencia contratos secretos suspeitas pratica atos corrupcao criacao empresas fachada beneficiar paises cuba angola venezuela republica dominicana guatemala outros cristiane apontou gama irregularidades concessao creditos relatou nao respeito procedimentos propria instituicao tampouco leis regulamentam operacoes precisamos urgentemente derrubar sigilo desses contratos secretos desmascarar vez pilantragem feita dinheiro publico abaixo resumo documento texto oficial voce pode conferir site camara federal ha diversas suspeitas irregularidades area internacional sendo auditadas contratos cerca r milhoes aprovados diretoria respectiva poucos paragrafos utilizacao termos genericos abstratos analise especifica sobre obra sera realizada pedidos financiamento realizacao obras distintas paises diferentes sao aprovados praticamente mesma fundamentacao utilizacao mesmas expressoes qualquer indicativo nacoes obras serem realizadas sao distintas ocorre exemplo comparamos processos concessao financiamento obras realizadas guatemala republica dominicana embora tratem obras paises diversos fundamentacao concessao respectivos emprestimos praticamente mesma afirmando contrato produzira fomento porque ajudara pais exportar divisas sic servicos nenhum momento relatorios indicam quais serao beneficios sociais pais projeto nao ha mencao sobre numero empregos serao gerados brasil menos efeito operacao tera parque industrial brasileiro maior detalhamento poderia ser adotado bndes melhorar transparencia governanca ademais caso operacoes venezuela ha processo andamento tcu proposta aplicacao multa bndes pese pratica corriqueira banco decisoes finais acerca financiamento aprovadas conselho administrativo tcu vem entendendo diretoria respectiva pode ser responsabilizada decisoes orgao controle aponta ainda falta registro arquivos banco fundamentacoes decisoes conselho critica classifica parecer oral sobre financiamentos determinados relatorios decisoes diretoria alguns erros digitacao implicaram celebracao contratos valores financiamento inferiores pretendidos supostas falhas transcricao documentos culminou erro autorizacao prazo deferido financiamento corpo tecnico bndes demonstre alta capacidade falhas comprometem qualidade procedimento ha questione nao caso mera chancela decisoes previamente tomadas instancias superiores governos sucessivos pt favorecimento amigos rei brahma outro lado revisao dessas praticas aprimorara transparencia lisura instituicao",
         "0"
        ],
        [
         "4",
         "fake",
         "radialista americano fala sobre pt vendem ilusao povo brasileiro so pensam divertir sitio radialista americano alex jones chorou falar criancas saude brasil jones citou microcefalia espalha mundo partir descaso crise politica esquerda nao faz nada so vendem ilusoes sei deveria disse jones fim video radialista falou sobre surto microcefalia nao conteve caiu lagrimas criancas nao amparo precisamos pessoas boas ajudar pessoas deixaram microcefalia crescer nesse pais",
         "0"
        ]
       ],
       "shape": {
        "columns": 3,
        "rows": 5
       }
      },
      "text/html": [
       "<div>\n",
       "<style scoped>\n",
       "    .dataframe tbody tr th:only-of-type {\n",
       "        vertical-align: middle;\n",
       "    }\n",
       "\n",
       "    .dataframe tbody tr th {\n",
       "        vertical-align: top;\n",
       "    }\n",
       "\n",
       "    .dataframe thead th {\n",
       "        text-align: right;\n",
       "    }\n",
       "</style>\n",
       "<table border=\"1\" class=\"dataframe\">\n",
       "  <thead>\n",
       "    <tr style=\"text-align: right;\">\n",
       "      <th></th>\n",
       "      <th>label</th>\n",
       "      <th>preprocessed_news</th>\n",
       "      <th>class</th>\n",
       "    </tr>\n",
       "  </thead>\n",
       "  <tbody>\n",
       "    <tr>\n",
       "      <th>0</th>\n",
       "      <td>fake</td>\n",
       "      <td>katia abreu diz vai colocar expulsao moldura n...</td>\n",
       "      <td>0</td>\n",
       "    </tr>\n",
       "    <tr>\n",
       "      <th>1</th>\n",
       "      <td>fake</td>\n",
       "      <td>ray peita bolsonaro conservador fake entrevist...</td>\n",
       "      <td>0</td>\n",
       "    </tr>\n",
       "    <tr>\n",
       "      <th>2</th>\n",
       "      <td>fake</td>\n",
       "      <td>reinaldo azevedo desmascarado policia federal ...</td>\n",
       "      <td>0</td>\n",
       "    </tr>\n",
       "    <tr>\n",
       "      <th>3</th>\n",
       "      <td>fake</td>\n",
       "      <td>relatorio assustador bndes mostra dinheiro pub...</td>\n",
       "      <td>0</td>\n",
       "    </tr>\n",
       "    <tr>\n",
       "      <th>4</th>\n",
       "      <td>fake</td>\n",
       "      <td>radialista americano fala sobre pt vendem ilus...</td>\n",
       "      <td>0</td>\n",
       "    </tr>\n",
       "  </tbody>\n",
       "</table>\n",
       "</div>"
      ],
      "text/plain": [
       "  label                                  preprocessed_news  class\n",
       "0  fake  katia abreu diz vai colocar expulsao moldura n...      0\n",
       "1  fake  ray peita bolsonaro conservador fake entrevist...      0\n",
       "2  fake  reinaldo azevedo desmascarado policia federal ...      0\n",
       "3  fake  relatorio assustador bndes mostra dinheiro pub...      0\n",
       "4  fake  radialista americano fala sobre pt vendem ilus...      0"
      ]
     },
     "execution_count": 17,
     "metadata": {},
     "output_type": "execute_result"
    }
   ],
   "source": [
    "news.head()"
   ]
  },
  {
   "cell_type": "markdown",
   "id": "0ac91018",
   "metadata": {},
   "source": [
    "## **Tokenização**"
   ]
  },
  {
   "cell_type": "markdown",
   "id": "041433e0",
   "metadata": {},
   "source": [
    "### com tiktoken"
   ]
  },
  {
   "cell_type": "code",
   "execution_count": 47,
   "id": "2bb91161",
   "metadata": {},
   "outputs": [],
   "source": [
    "enconding = tiktoken.get_encoding('o200k_base')"
   ]
  },
  {
   "cell_type": "code",
   "execution_count": 19,
   "id": "da97d9dc",
   "metadata": {},
   "outputs": [
    {
     "name": "stdout",
     "output_type": "stream",
     "text": [
      "[14408, 535, 692, 40962, 17259, 12156, 47242, 106492, 3458, 24575, 2705, 46625, 167645, 6385, 11323, 9015, 535, 692, 40962, 17699, 106492, 3458, 10074, 3687, 21905, 1375, 3458, 11531, 3419, 26044, 190748, 19475, 21530, 3857, 939, 36427, 21527, 11257, 277, 24575, 2705, 131023, 1194, 106492, 3458, 9693, 831, 365, 16505, 81815, 540, 37886, 31954, 4664, 7010, 10495, 40182, 14665, 106492, 12641, 46625, 2096, 347, 30321, 2096, 347, 30321, 58488, 13053, 2453, 17699, 9015, 535, 692, 40962, 118426, 106492, 3458, 13967, 36992, 19208, 10495, 40182, 73374, 58282, 83302, 9015, 535, 61815, 39531, 105384, 9015, 535, 46625, 11821, 18961, 30967, 3165, 84082, 17795, 29297, 24766, 18961, 27391, 1093, 9015, 535, 49726, 285, 5538, 344, 7072, 258, 926, 138568, 15908, 10074, 3687, 322, 116530, 277, 47249, 55968, 9015, 535, 35342, 58282, 1975, 17055, 172879, 6925, 12538, 365, 11564, 28397, 12102, 18961, 46625, 179719, 283, 9015, 535, 692, 40962, 1974, 17331, 4581, 16693, 2506, 292, 1578, 117299, 13812, 809]\n",
      "katia abreu diz vai colocar expulsao moldura nao reclamar senadora katia abreu disse expulsao pmdb resultado acao cupula atual legenda segundo oportunista amanha vou botar moldura dourada expulsao porque maos onde veio atestado boa conduta curriculo pessoas expulsaram nao servem pais servem pais beneficios proprios disse katia abreu ue expulsao algo tao bom curriculo tanta choradeira katia sabemos motivo provavelmente katia nao valor pt partido ja deveria absorvido parece pt gostava katia somente ficasse entrincheirada dentro pmdb rebaixar demais resta katia ficar chorando pitangas todos cantos tempo ate momento pt nao cadastrou katia abreu fileiras situacao patetica agricultura dilma\n"
     ]
    }
   ],
   "source": [
    "first_news_token = enconding.encode(news['preprocessed_news'][0])\n",
    "print(first_news_token)\n",
    "print(enconding.decode(first_news_token))"
   ]
  },
  {
   "cell_type": "code",
   "execution_count": 20,
   "id": "5f76cf9b",
   "metadata": {},
   "outputs": [],
   "source": [
    "news['tokens'] = news['preprocessed_news'].apply(lambda x: enconding.encode(x))"
   ]
  },
  {
   "cell_type": "code",
   "execution_count": 21,
   "id": "4f7a53ef",
   "metadata": {},
   "outputs": [],
   "source": [
    "news['num_tokens'] = news['tokens'].apply(len)"
   ]
  },
  {
   "cell_type": "code",
   "execution_count": 22,
   "id": "41edb9fb",
   "metadata": {},
   "outputs": [
    {
     "data": {
      "application/vnd.microsoft.datawrangler.viewer.v0+json": {
       "columns": [
        {
         "name": "index",
         "rawType": "int64",
         "type": "integer"
        },
        {
         "name": "label",
         "rawType": "object",
         "type": "string"
        },
        {
         "name": "preprocessed_news",
         "rawType": "object",
         "type": "string"
        },
        {
         "name": "class",
         "rawType": "int32",
         "type": "integer"
        },
        {
         "name": "tokens",
         "rawType": "object",
         "type": "unknown"
        },
        {
         "name": "num_tokens",
         "rawType": "int64",
         "type": "integer"
        }
       ],
       "conversionMethod": "pd.DataFrame",
       "ref": "9bdfb8f6-6353-40d0-b45a-e29c0cc22d94",
       "rows": [
        [
         "0",
         "fake",
         "katia abreu diz vai colocar expulsao moldura nao reclamar senadora katia abreu disse expulsao pmdb resultado acao cupula atual legenda segundo oportunista amanha vou botar moldura dourada expulsao porque maos onde veio atestado boa conduta curriculo pessoas expulsaram nao servem pais servem pais beneficios proprios disse katia abreu ue expulsao algo tao bom curriculo tanta choradeira katia sabemos motivo provavelmente katia nao valor pt partido ja deveria absorvido parece pt gostava katia somente ficasse entrincheirada dentro pmdb rebaixar demais resta katia ficar chorando pitangas todos cantos tempo ate momento pt nao cadastrou katia abreu fileiras situacao patetica agricultura dilma",
         "0",
         "[14408, 535, 692, 40962, 17259, 12156, 47242, 106492, 3458, 24575, 2705, 46625, 167645, 6385, 11323, 9015, 535, 692, 40962, 17699, 106492, 3458, 10074, 3687, 21905, 1375, 3458, 11531, 3419, 26044, 190748, 19475, 21530, 3857, 939, 36427, 21527, 11257, 277, 24575, 2705, 131023, 1194, 106492, 3458, 9693, 831, 365, 16505, 81815, 540, 37886, 31954, 4664, 7010, 10495, 40182, 14665, 106492, 12641, 46625, 2096, 347, 30321, 2096, 347, 30321, 58488, 13053, 2453, 17699, 9015, 535, 692, 40962, 118426, 106492, 3458, 13967, 36992, 19208, 10495, 40182, 73374, 58282, 83302, 9015, 535, 61815, 39531, 105384, 9015, 535, 46625, 11821, 18961, 30967, 3165, 84082, 17795, 29297, 24766, 18961, 27391, 1093, 9015, 535, 49726, 285, 5538, 344, 7072, 258, 926, 138568, 15908, 10074, 3687, 322, 116530, 277, 47249, 55968, 9015, 535, 35342, 58282, 1975, 17055, 172879, 6925, 12538, 365, 11564, 28397, 12102, 18961, 46625, 179719, 283, 9015, 535, 692, 40962, 1974, 17331, 4581, 16693, 2506, 292, 1578, 117299, 13812, 809]",
         "154"
        ],
        [
         "1",
         "fake",
         "ray peita bolsonaro conservador fake entrevista danilo gentili divide direita site vem avisando jair bolsonaro deveria abandonar pauta estatista vez fazer discurso convincente boa parte liberais conservadores brasil querem ver livres amarras estatais tudo bem pesquisas ainda dizem maior parte povo contra privatizacoes indice pouco povo facil ser revertido ademais bolsonaro deveria falar direitistas vez focar tanto petistas arrependidos recentemente disse pensaria vezes antes privatizar petrobras nao caia maos chineses algo tipo deveria ter dito garanto privatizacao petrobras tambem garanto chineses nao irao nao deixaria brechas jeito falou parece suposto medo venda chineses pretexto evitar privatizacao la direita vai ter adotar alternativas foquem estado reduzido diminuicao impostos venda estatais alem joao amoedo rey fazendo vicejar tipo discurso ainda candidatura fase inicial complicado bolsonaro aparecam pessoas direita propondo visao economicamente direitista economia enfim veja rey espinafrando bolsonaro brechas nao pode reclamar outros aproveitem nao",
         "0",
         "[25430, 1045, 2580, 7271, 81783, 13953, 3723, 20774, 52833, 2805, 7533, 18520, 2751, 38484, 106913, 2702, 34209, 31783, 1975, 441, 1517, 7271, 81783, 84082, 141887, 174564, 42957, 3857, 7094, 13259, 73577, 63625, 1576, 31954, 7441, 26022, 1873, 13953, 7151, 117829, 94926, 1245, 55963, 939, 88710, 893, 546, 276, 17409, 10540, 105254, 12830, 114394, 15966, 7441, 57531, 10354, 45256, 482, 78271, 90848, 25529, 57531, 7586, 1334, 34674, 2295, 99819, 1873, 7271, 81783, 84082, 39456, 4071, 278, 9435, 7094, 20863, 277, 12405, 5716, 9435, 95328, 5293, 5965, 105559, 17699, 9696, 6477, 25990, 13290, 45256, 6552, 150509, 52616, 46625, 3268, 535, 831, 365, 99601, 268, 13967, 11030, 84082, 3069, 59789, 5013, 4909, 45256, 150571, 150509, 52616, 5279, 347, 5013, 4909, 99601, 268, 46625, 51468, 78, 46625, 16498, 6477, 5218, 32696, 86337, 100915, 24766, 1982, 14714, 67874, 40802, 99601, 268, 876, 93805, 29398, 45256, 150571, 557, 106913, 12156, 3069, 687, 78288, 84395, 7176, 43507, 16299, 64671, 2295, 80939, 29414, 141378, 40802, 893, 546, 276, 61994, 8483, 3458, 60073, 33967, 79860, 49099, 22625, 10044, 11030, 73577, 12830, 119155, 31690, 37299, 100039, 7271, 81783, 20479, 17408, 14665, 106913, 90708, 2408, 1909, 3458, 11324, 3444, 4071, 278, 3857, 63031, 160977, 112248, 79860, 7461, 1522, 1739, 1975, 7271, 81783, 5218, 32696, 46625, 9684, 167645, 17675, 32733, 2057, 46625]",
         "210"
        ],
        [
         "2",
         "fake",
         "reinaldo azevedo desmascarado policia federal ferrenho critico presidenciavel jair bolsonaro desmascarado grampo telefonico conversas irma aecio neves conversa debochavam juiz sergio moro operacao lava jato agora ficou clara intencao jornalista fazer defesas tao ferrenhas tucanos colunas veja jovem pan amigo intimo familia neves alto tucanato fazia propaganda psdbista inves jornalismo jornalista reinaldo azevedo conversa andrea neves irma senador afastado aecio neves interceptada policia federal assunto tratado sao acusacoes contra aecio contidas delacao odebrecht dialogo classificou reportagem revista veja onde trabalhava demitido nojenta referia edicao trouxe aecio capa titulo vez aecio reinaldo criticou tambem republica rodrigo janot dizia janot atacava aecio supostas pretensoes candidatar governo minas gerais senado assim conversa divulgada colunista demitido veja esperar fez vitima ha agressao garantias profissao menos crime sendo cometido sigilo conversa jornalista fonte pilares jornalismo escreveu gravacoes anexadas republica conjunto audios anexados inquerito provocou afastamento aecio prisao irma sabe breve poderemos ver reinaldo fazendo companhia amigo tucano cadeia",
         "0",
         "[264, 1028, 2408, 130965, 191981, 731, 4227, 6830, 1064, 11384, 535, 12454, 37316, 262, 1555, 6709, 2424, 41793, 18670, 8345, 441, 1517, 7271, 81783, 731, 4227, 6830, 1064, 984, 62584, 24812, 2424, 9436, 288, 3288, 809, 261, 1007, 726, 453, 3350, 96254, 158283, 332, 25021, 127620, 1334, 31792, 195617, 2650, 16693, 23556, 441, 2754, 23785, 47377, 64691, 677, 1038, 3458, 125160, 13259, 1056, 105772, 36992, 37316, 262, 5429, 190809, 21677, 996, 42680, 112248, 64938, 6389, 39586, 677, 4536, 21593, 453, 3350, 25846, 190809, 155186, 120391, 58745, 10942, 3687, 3857, 1827, 268, 53099, 6481, 125160, 322, 1028, 2408, 130965, 191981, 96254, 326, 5336, 453, 3350, 3288, 809, 121698, 96465, 1064, 261, 1007, 726, 453, 3350, 61339, 1194, 11384, 535, 12454, 59798, 121695, 61359, 52358, 78271, 10354, 261, 1007, 726, 836, 7375, 1083, 16693, 58840, 158929, 11213, 78, 111096, 283, 173924, 58392, 112248, 16505, 36270, 1093, 2019, 278, 2295, 124930, 6483, 6716, 535, 1648, 29414, 143543, 261, 1007, 726, 70254, 79441, 7094, 261, 1007, 726, 322, 1028, 2408, 20183, 283, 5279, 347, 49288, 64, 974, 4541, 6235, 18501, 346, 165065, 18501, 346, 53382, 1093, 261, 1007, 726, 1982, 159362, 16776, 696, 11537, 7938, 7242, 34307, 151561, 168846, 6385, 1064, 17340, 96254, 56991, 1194, 996, 373, 3857, 2019, 278, 2295, 112248, 52298, 36100, 9281, 3226, 2472, 67293, 3458, 13205, 2682, 37121, 3458, 12271, 17962, 21923, 190654, 6377, 7533, 96254, 125160, 64424, 198619, 53099, 6481, 120169, 16970, 78271, 194626, 3921, 49288, 64, 32866, 7575, 2453, 194626, 2426, 306, 8054, 2955, 33045, 283, 96465, 4626, 261, 1007, 726, 17549, 3458, 3288, 809, 28276, 55567, 9759, 6192, 1245, 322, 1028, 2408, 49099, 96197, 39586, 190809, 3137, 155166]",
         "271"
        ],
        [
         "3",
         "fake",
         "relatorio assustador bndes mostra dinheiro publico brasil jorrando paises comunistas relatorio intitulado bndes transformado robin hood avessas mostra bndes influenciado governo petista conseguiu beneficiar pequeno percentual empresas escolhidas dedo afundou instituicao dividas astronomicas autoria deputada cristiane brasil documento apresentado cpi bndes mostra pt apossou banco conceder beneficios paises comunistas trecho documento destaca existencia contratos secretos suspeitas pratica atos corrupcao criacao empresas fachada beneficiar paises cuba angola venezuela republica dominicana guatemala outros cristiane apontou gama irregularidades concessao creditos relatou nao respeito procedimentos propria instituicao tampouco leis regulamentam operacoes precisamos urgentemente derrubar sigilo desses contratos secretos desmascarar vez pilantragem feita dinheiro publico abaixo resumo documento texto oficial voce pode conferir site camara federal ha diversas suspeitas irregularidades area internacional sendo auditadas contratos cerca r milhoes aprovados diretoria respectiva poucos paragrafos utilizacao termos genericos abstratos analise especifica sobre obra sera realizada pedidos financiamento realizacao obras distintas paises diferentes sao aprovados praticamente mesma fundamentacao utilizacao mesmas expressoes qualquer indicativo nacoes obras serem realizadas sao distintas ocorre exemplo comparamos processos concessao financiamento obras realizadas guatemala republica dominicana embora tratem obras paises diversos fundamentacao concessao respectivos emprestimos praticamente mesma afirmando contrato produzira fomento porque ajudara pais exportar divisas sic servicos nenhum momento relatorios indicam quais serao beneficios sociais pais projeto nao ha mencao sobre numero empregos serao gerados brasil menos efeito operacao tera parque industrial brasileiro maior detalhamento poderia ser adotado bndes melhorar transparencia governanca ademais caso operacoes venezuela ha processo andamento tcu proposta aplicacao multa bndes pese pratica corriqueira banco decisoes finais acerca financiamento aprovadas conselho administrativo tcu vem entendendo diretoria respectiva pode ser responsabilizada decisoes orgao controle aponta ainda falta registro arquivos banco fundamentacoes decisoes conselho critica classifica parecer oral sobre financiamentos determinados relatorios decisoes diretoria alguns erros digitacao implicaram celebracao contratos valores financiamento inferiores pretendidos supostas falhas transcricao documentos culminou erro autorizacao prazo deferido financiamento corpo tecnico bndes demonstre alta capacidade falhas comprometem qualidade procedimento ha questione nao caso mera chancela decisoes previamente tomadas instancias superiores governos sucessivos pt favorecimento amigos rei brahma outro lado revisao dessas praticas aprimorara transparencia lisura instituicao",
         "0",
         "[6004, 31554, 180151, 3723, 287, 301, 268, 45343, 37547, 180295, 117829, 441, 4761, 1975, 30321, 268, 10488, 9435, 1536, 31554, 677, 278, 56434, 287, 301, 268, 7118, 1064, 189697, 39534, 1452, 192587, 45343, 287, 301, 268, 8491, 88785, 34307, 5716, 3857, 84412, 186440, 64676, 196995, 19274, 89731, 7375, 128493, 1283, 980, 283, 97535, 29414, 4223, 7375, 78453, 5538, 180394, 31570, 1194, 33494, 39704, 117829, 43359, 118885, 274, 3455, 287, 301, 268, 45343, 18961, 261, 67395, 283, 46197, 45437, 259, 58488, 30321, 268, 10488, 9435, 163325, 43359, 71078, 85597, 83728, 179363, 88110, 11113, 143231, 129132, 78261, 89657, 17200, 16693, 19274, 180109, 186440, 30321, 268, 190508, 2929, 5204, 67686, 40538, 49288, 64, 14398, 30947, 1704, 73357, 17675, 33494, 39704, 81642, 283, 55571, 52454, 5522, 73411, 3458, 6871, 365, 37575, 283, 46625, 52154, 113522, 100521, 97535, 29414, 36993, 283, 1191, 22174, 138188, 313, 2650, 78271, 125520, 45925, 15528, 42219, 80045, 6377, 7533, 69362, 83728, 179363, 731, 4227, 6830, 277, 7094, 10977, 270, 371, 8551, 55019, 37547, 180295, 46979, 180389, 43359, 26353, 27259, 93274, 9684, 137210, 2702, 4166, 1956, 12454, 2472, 36957, 88110, 11113, 52454, 5522, 3624, 28016, 21923, 31935, 3921, 83728, 23815, 428, 3801, 173479, 82242, 2426, 49565, 6112, 5618, 5638, 73141, 132713, 139088, 13674, 16693, 58149, 2217, 6302, 138806, 10322, 3758, 1096, 50861, 64, 4844, 22620, 15511, 51971, 88184, 135540, 11794, 16693, 33905, 59093, 30321, 268, 17220, 61359, 82242, 2426, 100745, 33576, 13725, 16693, 13674, 16693, 122037, 2794, 26610, 268, 20923, 6079, 13262, 44472, 11537, 33905, 55433, 73868, 61359, 59093, 60369, 29370, 452, 167070, 59375, 73411, 3458, 135540, 33905, 73868, 1704, 73357, 49288, 64, 14398, 30947, 65883, 15536, 347, 33905, 30321, 268, 34281, 13725, 16693, 73411, 3458, 153047, 54304, 302, 10404, 100745, 33576, 30457, 1975, 44346, 49974, 2633, 285, 121404, 9693, 52365, 1956, 30321, 11766, 277, 4223, 24811, 32677, 2096, 6302, 55006, 12102, 1536, 88804, 6079, 313, 37766, 1334, 3458, 58488, 40898, 30321, 28626, 46625, 2472, 22843, 3458, 4844, 27069, 182993, 1334, 3458, 6556, 2426, 117829, 12271, 68023, 2650, 16693, 182108, 67649, 14144, 59965, 15966, 35093, 178102, 54589, 1334, 100397, 1064, 287, 301, 268, 76495, 182813, 4661, 19863, 99819, 1873, 11051, 2650, 78271, 67686, 40538, 2472, 24211, 189047, 260, 7719, 52153, 12112, 16693, 101777, 287, 301, 268, 69682, 143231, 1907, 22969, 2633, 46197, 178282, 268, 142849, 50055, 135540, 82242, 3921, 179418, 127676, 260, 7719, 34209, 31239, 3819, 49565, 6112, 5618, 5638, 9684, 1334, 25684, 24162, 178282, 268, 1333, 3458, 35300, 173376, 12830, 24862, 39764, 107984, 46197, 13725, 78271, 178282, 268, 179418, 161887, 744, 28448, 61112, 25008, 4844, 60265, 15690, 128154, 1536, 88804, 178282, 268, 49565, 6112, 23738, 100062, 19181, 16693, 48641, 12641, 7770, 16693, 83728, 29749, 135540, 168301, 45773, 5965, 1982, 159362, 12213, 5429, 1643, 78393, 52340, 56698, 283, 41823, 48086, 16693, 52108, 68973, 2295, 135540, 31030, 182660, 287, 301, 268, 42156, 26826, 19097, 52433, 12213, 5429, 70963, 347, 29565, 102604, 2472, 2606, 4655, 46625, 11051, 112614, 130489, 2717, 178282, 268, 108694, 162473, 1710, 43274, 97903, 181046, 91314, 9678, 18961, 63430, 19317, 27298, 68967, 12036, 54144, 23461, 17937, 19497, 3458, 80743, 43812, 288, 176204, 267, 1956, 182813, 20784, 2705, 97535, 29414]",
         "509"
        ],
        [
         "4",
         "fake",
         "radialista americano fala sobre pt vendem ilusao povo brasileiro so pensam divertir sitio radialista americano alex jones chorou falar criancas saude brasil jones citou microcefalia espalha mundo partir descaso crise politica esquerda nao faz nada so vendem ilusoes sei deveria disse jones fim video radialista falou sobre surto microcefalia nao conteve caiu lagrimas criancas nao amparo precisamos pessoas boas ajudar pessoas deixaram microcefalia crescer nesse pais",
         "0",
         "[19027, 563, 3857, 94277, 60486, 4844, 18961, 10593, 347, 129542, 3458, 57531, 59965, 813, 9696, 313, 170274, 35370, 85692, 3857, 94277, 82250, 441, 3617, 58282, 283, 39456, 17200, 117202, 880, 3525, 117829, 441, 3617, 8999, 283, 10449, 141071, 7464, 116238, 1716, 10225, 12100, 7265, 21449, 44163, 91935, 98593, 46625, 7579, 14542, 813, 10593, 347, 129542, 11537, 19678, 84082, 17699, 441, 3617, 26206, 3823, 85692, 3857, 100915, 4844, 1512, 935, 10449, 141071, 7464, 46625, 35490, 737, 142395, 9797, 81, 13804, 17200, 117202, 46625, 939, 109921, 125520, 14665, 73157, 44208, 14665, 16498, 12641, 10449, 141071, 7464, 115680, 50296, 30321]",
         "97"
        ]
       ],
       "shape": {
        "columns": 5,
        "rows": 5
       }
      },
      "text/html": [
       "<div>\n",
       "<style scoped>\n",
       "    .dataframe tbody tr th:only-of-type {\n",
       "        vertical-align: middle;\n",
       "    }\n",
       "\n",
       "    .dataframe tbody tr th {\n",
       "        vertical-align: top;\n",
       "    }\n",
       "\n",
       "    .dataframe thead th {\n",
       "        text-align: right;\n",
       "    }\n",
       "</style>\n",
       "<table border=\"1\" class=\"dataframe\">\n",
       "  <thead>\n",
       "    <tr style=\"text-align: right;\">\n",
       "      <th></th>\n",
       "      <th>label</th>\n",
       "      <th>preprocessed_news</th>\n",
       "      <th>class</th>\n",
       "      <th>tokens</th>\n",
       "      <th>num_tokens</th>\n",
       "    </tr>\n",
       "  </thead>\n",
       "  <tbody>\n",
       "    <tr>\n",
       "      <th>0</th>\n",
       "      <td>fake</td>\n",
       "      <td>katia abreu diz vai colocar expulsao moldura n...</td>\n",
       "      <td>0</td>\n",
       "      <td>[14408, 535, 692, 40962, 17259, 12156, 47242, ...</td>\n",
       "      <td>154</td>\n",
       "    </tr>\n",
       "    <tr>\n",
       "      <th>1</th>\n",
       "      <td>fake</td>\n",
       "      <td>ray peita bolsonaro conservador fake entrevist...</td>\n",
       "      <td>0</td>\n",
       "      <td>[25430, 1045, 2580, 7271, 81783, 13953, 3723, ...</td>\n",
       "      <td>210</td>\n",
       "    </tr>\n",
       "    <tr>\n",
       "      <th>2</th>\n",
       "      <td>fake</td>\n",
       "      <td>reinaldo azevedo desmascarado policia federal ...</td>\n",
       "      <td>0</td>\n",
       "      <td>[264, 1028, 2408, 130965, 191981, 731, 4227, 6...</td>\n",
       "      <td>271</td>\n",
       "    </tr>\n",
       "    <tr>\n",
       "      <th>3</th>\n",
       "      <td>fake</td>\n",
       "      <td>relatorio assustador bndes mostra dinheiro pub...</td>\n",
       "      <td>0</td>\n",
       "      <td>[6004, 31554, 180151, 3723, 287, 301, 268, 453...</td>\n",
       "      <td>509</td>\n",
       "    </tr>\n",
       "    <tr>\n",
       "      <th>4</th>\n",
       "      <td>fake</td>\n",
       "      <td>radialista americano fala sobre pt vendem ilus...</td>\n",
       "      <td>0</td>\n",
       "      <td>[19027, 563, 3857, 94277, 60486, 4844, 18961, ...</td>\n",
       "      <td>97</td>\n",
       "    </tr>\n",
       "  </tbody>\n",
       "</table>\n",
       "</div>"
      ],
      "text/plain": [
       "  label                                  preprocessed_news  class  \\\n",
       "0  fake  katia abreu diz vai colocar expulsao moldura n...      0   \n",
       "1  fake  ray peita bolsonaro conservador fake entrevist...      0   \n",
       "2  fake  reinaldo azevedo desmascarado policia federal ...      0   \n",
       "3  fake  relatorio assustador bndes mostra dinheiro pub...      0   \n",
       "4  fake  radialista americano fala sobre pt vendem ilus...      0   \n",
       "\n",
       "                                              tokens  num_tokens  \n",
       "0  [14408, 535, 692, 40962, 17259, 12156, 47242, ...         154  \n",
       "1  [25430, 1045, 2580, 7271, 81783, 13953, 3723, ...         210  \n",
       "2  [264, 1028, 2408, 130965, 191981, 731, 4227, 6...         271  \n",
       "3  [6004, 31554, 180151, 3723, 287, 301, 268, 453...         509  \n",
       "4  [19027, 563, 3857, 94277, 60486, 4844, 18961, ...          97  "
      ]
     },
     "execution_count": 22,
     "metadata": {},
     "output_type": "execute_result"
    }
   ],
   "source": [
    "news.head()"
   ]
  },
  {
   "cell_type": "code",
   "execution_count": 25,
   "id": "9785791d",
   "metadata": {},
   "outputs": [],
   "source": [
    "news.to_csv('tokenized.csv', sep='\\t', index=False)"
   ]
  },
  {
   "cell_type": "markdown",
   "id": "712efbd4",
   "metadata": {},
   "source": [
    "# **Processo com o arquivo tokenizado**"
   ]
  },
  {
   "cell_type": "code",
   "execution_count": 23,
   "id": "a7a84606",
   "metadata": {},
   "outputs": [
    {
     "data": {
      "application/vnd.microsoft.datawrangler.viewer.v0+json": {
       "columns": [
        {
         "name": "index",
         "rawType": "int64",
         "type": "integer"
        },
        {
         "name": "label",
         "rawType": "object",
         "type": "string"
        },
        {
         "name": "preprocessed_news",
         "rawType": "object",
         "type": "string"
        },
        {
         "name": "class",
         "rawType": "int64",
         "type": "integer"
        },
        {
         "name": "tokens",
         "rawType": "object",
         "type": "unknown"
        },
        {
         "name": "num_tokens",
         "rawType": "int64",
         "type": "integer"
        }
       ],
       "conversionMethod": "pd.DataFrame",
       "ref": "06fe7420-edb2-4a8e-934a-36882a101e66",
       "rows": [
        [
         "0",
         "fake",
         "katia abreu diz vai colocar expulsao moldura nao reclamar senadora katia abreu disse expulsao pmdb resultado acao cupula atual legenda segundo oportunista amanha vou botar moldura dourada expulsao porque maos onde veio atestado boa conduta curriculo pessoas expulsaram nao servem pais servem pais beneficios proprios disse katia abreu ue expulsao algo tao bom curriculo tanta choradeira katia sabemos motivo provavelmente katia nao valor pt partido ja deveria absorvido parece pt gostava katia somente ficasse entrincheirada dentro pmdb rebaixar demais resta katia ficar chorando pitangas todos cantos tempo ate momento pt nao cadastrou katia abreu fileiras situacao patetica agricultura dilma",
         "0",
         "[14408, 535, 692, 40962, 17259, 12156, 47242, 106492, 3458, 24575, 2705, 46625, 167645, 6385, 11323, 9015, 535, 692, 40962, 17699, 106492, 3458, 10074, 3687, 21905, 1375, 3458, 11531, 3419, 26044, 190748, 19475, 21530, 3857, 939, 36427, 21527, 11257, 277, 24575, 2705, 131023, 1194, 106492, 3458, 9693, 831, 365, 16505, 81815, 540, 37886, 31954, 4664, 7010, 10495, 40182, 14665, 106492, 12641, 46625, 2096, 347, 30321, 2096, 347, 30321, 58488, 13053, 2453, 17699, 9015, 535, 692, 40962, 118426, 106492, 3458, 13967, 36992, 19208, 10495, 40182, 73374, 58282, 83302, 9015, 535, 61815, 39531, 105384, 9015, 535, 46625, 11821, 18961, 30967, 3165, 84082, 17795, 29297, 24766, 18961, 27391, 1093, 9015, 535, 49726, 285, 5538, 344, 7072, 258, 926, 138568, 15908, 10074, 3687, 322, 116530, 277, 47249, 55968, 9015, 535, 35342, 58282, 1975, 17055, 172879, 6925, 12538, 365, 11564, 28397, 12102, 18961, 46625, 179719, 283, 9015, 535, 692, 40962, 1974, 17331, 4581, 16693, 2506, 292, 1578, 117299, 13812, 809]",
         "154"
        ],
        [
         "1",
         "fake",
         "ray peita bolsonaro conservador fake entrevista danilo gentili divide direita site vem avisando jair bolsonaro deveria abandonar pauta estatista vez fazer discurso convincente boa parte liberais conservadores brasil querem ver livres amarras estatais tudo bem pesquisas ainda dizem maior parte povo contra privatizacoes indice pouco povo facil ser revertido ademais bolsonaro deveria falar direitistas vez focar tanto petistas arrependidos recentemente disse pensaria vezes antes privatizar petrobras nao caia maos chineses algo tipo deveria ter dito garanto privatizacao petrobras tambem garanto chineses nao irao nao deixaria brechas jeito falou parece suposto medo venda chineses pretexto evitar privatizacao la direita vai ter adotar alternativas foquem estado reduzido diminuicao impostos venda estatais alem joao amoedo rey fazendo vicejar tipo discurso ainda candidatura fase inicial complicado bolsonaro aparecam pessoas direita propondo visao economicamente direitista economia enfim veja rey espinafrando bolsonaro brechas nao pode reclamar outros aproveitem nao",
         "0",
         "[25430, 1045, 2580, 7271, 81783, 13953, 3723, 20774, 52833, 2805, 7533, 18520, 2751, 38484, 106913, 2702, 34209, 31783, 1975, 441, 1517, 7271, 81783, 84082, 141887, 174564, 42957, 3857, 7094, 13259, 73577, 63625, 1576, 31954, 7441, 26022, 1873, 13953, 7151, 117829, 94926, 1245, 55963, 939, 88710, 893, 546, 276, 17409, 10540, 105254, 12830, 114394, 15966, 7441, 57531, 10354, 45256, 482, 78271, 90848, 25529, 57531, 7586, 1334, 34674, 2295, 99819, 1873, 7271, 81783, 84082, 39456, 4071, 278, 9435, 7094, 20863, 277, 12405, 5716, 9435, 95328, 5293, 5965, 105559, 17699, 9696, 6477, 25990, 13290, 45256, 6552, 150509, 52616, 46625, 3268, 535, 831, 365, 99601, 268, 13967, 11030, 84082, 3069, 59789, 5013, 4909, 45256, 150571, 150509, 52616, 5279, 347, 5013, 4909, 99601, 268, 46625, 51468, 78, 46625, 16498, 6477, 5218, 32696, 86337, 100915, 24766, 1982, 14714, 67874, 40802, 99601, 268, 876, 93805, 29398, 45256, 150571, 557, 106913, 12156, 3069, 687, 78288, 84395, 7176, 43507, 16299, 64671, 2295, 80939, 29414, 141378, 40802, 893, 546, 276, 61994, 8483, 3458, 60073, 33967, 79860, 49099, 22625, 10044, 11030, 73577, 12830, 119155, 31690, 37299, 100039, 7271, 81783, 20479, 17408, 14665, 106913, 90708, 2408, 1909, 3458, 11324, 3444, 4071, 278, 3857, 63031, 160977, 112248, 79860, 7461, 1522, 1739, 1975, 7271, 81783, 5218, 32696, 46625, 9684, 167645, 17675, 32733, 2057, 46625]",
         "210"
        ],
        [
         "2",
         "fake",
         "reinaldo azevedo desmascarado policia federal ferrenho critico presidenciavel jair bolsonaro desmascarado grampo telefonico conversas irma aecio neves conversa debochavam juiz sergio moro operacao lava jato agora ficou clara intencao jornalista fazer defesas tao ferrenhas tucanos colunas veja jovem pan amigo intimo familia neves alto tucanato fazia propaganda psdbista inves jornalismo jornalista reinaldo azevedo conversa andrea neves irma senador afastado aecio neves interceptada policia federal assunto tratado sao acusacoes contra aecio contidas delacao odebrecht dialogo classificou reportagem revista veja onde trabalhava demitido nojenta referia edicao trouxe aecio capa titulo vez aecio reinaldo criticou tambem republica rodrigo janot dizia janot atacava aecio supostas pretensoes candidatar governo minas gerais senado assim conversa divulgada colunista demitido veja esperar fez vitima ha agressao garantias profissao menos crime sendo cometido sigilo conversa jornalista fonte pilares jornalismo escreveu gravacoes anexadas republica conjunto audios anexados inquerito provocou afastamento aecio prisao irma sabe breve poderemos ver reinaldo fazendo companhia amigo tucano cadeia",
         "0",
         "[264, 1028, 2408, 130965, 191981, 731, 4227, 6830, 1064, 11384, 535, 12454, 37316, 262, 1555, 6709, 2424, 41793, 18670, 8345, 441, 1517, 7271, 81783, 731, 4227, 6830, 1064, 984, 62584, 24812, 2424, 9436, 288, 3288, 809, 261, 1007, 726, 453, 3350, 96254, 158283, 332, 25021, 127620, 1334, 31792, 195617, 2650, 16693, 23556, 441, 2754, 23785, 47377, 64691, 677, 1038, 3458, 125160, 13259, 1056, 105772, 36992, 37316, 262, 5429, 190809, 21677, 996, 42680, 112248, 64938, 6389, 39586, 677, 4536, 21593, 453, 3350, 25846, 190809, 155186, 120391, 58745, 10942, 3687, 3857, 1827, 268, 53099, 6481, 125160, 322, 1028, 2408, 130965, 191981, 96254, 326, 5336, 453, 3350, 3288, 809, 121698, 96465, 1064, 261, 1007, 726, 453, 3350, 61339, 1194, 11384, 535, 12454, 59798, 121695, 61359, 52358, 78271, 10354, 261, 1007, 726, 836, 7375, 1083, 16693, 58840, 158929, 11213, 78, 111096, 283, 173924, 58392, 112248, 16505, 36270, 1093, 2019, 278, 2295, 124930, 6483, 6716, 535, 1648, 29414, 143543, 261, 1007, 726, 70254, 79441, 7094, 261, 1007, 726, 322, 1028, 2408, 20183, 283, 5279, 347, 49288, 64, 974, 4541, 6235, 18501, 346, 165065, 18501, 346, 53382, 1093, 261, 1007, 726, 1982, 159362, 16776, 696, 11537, 7938, 7242, 34307, 151561, 168846, 6385, 1064, 17340, 96254, 56991, 1194, 996, 373, 3857, 2019, 278, 2295, 112248, 52298, 36100, 9281, 3226, 2472, 67293, 3458, 13205, 2682, 37121, 3458, 12271, 17962, 21923, 190654, 6377, 7533, 96254, 125160, 64424, 198619, 53099, 6481, 120169, 16970, 78271, 194626, 3921, 49288, 64, 32866, 7575, 2453, 194626, 2426, 306, 8054, 2955, 33045, 283, 96465, 4626, 261, 1007, 726, 17549, 3458, 3288, 809, 28276, 55567, 9759, 6192, 1245, 322, 1028, 2408, 49099, 96197, 39586, 190809, 3137, 155166]",
         "271"
        ],
        [
         "3",
         "fake",
         "relatorio assustador bndes mostra dinheiro publico brasil jorrando paises comunistas relatorio intitulado bndes transformado robin hood avessas mostra bndes influenciado governo petista conseguiu beneficiar pequeno percentual empresas escolhidas dedo afundou instituicao dividas astronomicas autoria deputada cristiane brasil documento apresentado cpi bndes mostra pt apossou banco conceder beneficios paises comunistas trecho documento destaca existencia contratos secretos suspeitas pratica atos corrupcao criacao empresas fachada beneficiar paises cuba angola venezuela republica dominicana guatemala outros cristiane apontou gama irregularidades concessao creditos relatou nao respeito procedimentos propria instituicao tampouco leis regulamentam operacoes precisamos urgentemente derrubar sigilo desses contratos secretos desmascarar vez pilantragem feita dinheiro publico abaixo resumo documento texto oficial voce pode conferir site camara federal ha diversas suspeitas irregularidades area internacional sendo auditadas contratos cerca r milhoes aprovados diretoria respectiva poucos paragrafos utilizacao termos genericos abstratos analise especifica sobre obra sera realizada pedidos financiamento realizacao obras distintas paises diferentes sao aprovados praticamente mesma fundamentacao utilizacao mesmas expressoes qualquer indicativo nacoes obras serem realizadas sao distintas ocorre exemplo comparamos processos concessao financiamento obras realizadas guatemala republica dominicana embora tratem obras paises diversos fundamentacao concessao respectivos emprestimos praticamente mesma afirmando contrato produzira fomento porque ajudara pais exportar divisas sic servicos nenhum momento relatorios indicam quais serao beneficios sociais pais projeto nao ha mencao sobre numero empregos serao gerados brasil menos efeito operacao tera parque industrial brasileiro maior detalhamento poderia ser adotado bndes melhorar transparencia governanca ademais caso operacoes venezuela ha processo andamento tcu proposta aplicacao multa bndes pese pratica corriqueira banco decisoes finais acerca financiamento aprovadas conselho administrativo tcu vem entendendo diretoria respectiva pode ser responsabilizada decisoes orgao controle aponta ainda falta registro arquivos banco fundamentacoes decisoes conselho critica classifica parecer oral sobre financiamentos determinados relatorios decisoes diretoria alguns erros digitacao implicaram celebracao contratos valores financiamento inferiores pretendidos supostas falhas transcricao documentos culminou erro autorizacao prazo deferido financiamento corpo tecnico bndes demonstre alta capacidade falhas comprometem qualidade procedimento ha questione nao caso mera chancela decisoes previamente tomadas instancias superiores governos sucessivos pt favorecimento amigos rei brahma outro lado revisao dessas praticas aprimorara transparencia lisura instituicao",
         "0",
         "[6004, 31554, 180151, 3723, 287, 301, 268, 45343, 37547, 180295, 117829, 441, 4761, 1975, 30321, 268, 10488, 9435, 1536, 31554, 677, 278, 56434, 287, 301, 268, 7118, 1064, 189697, 39534, 1452, 192587, 45343, 287, 301, 268, 8491, 88785, 34307, 5716, 3857, 84412, 186440, 64676, 196995, 19274, 89731, 7375, 128493, 1283, 980, 283, 97535, 29414, 4223, 7375, 78453, 5538, 180394, 31570, 1194, 33494, 39704, 117829, 43359, 118885, 274, 3455, 287, 301, 268, 45343, 18961, 261, 67395, 283, 46197, 45437, 259, 58488, 30321, 268, 10488, 9435, 163325, 43359, 71078, 85597, 83728, 179363, 88110, 11113, 143231, 129132, 78261, 89657, 17200, 16693, 19274, 180109, 186440, 30321, 268, 190508, 2929, 5204, 67686, 40538, 49288, 64, 14398, 30947, 1704, 73357, 17675, 33494, 39704, 81642, 283, 55571, 52454, 5522, 73411, 3458, 6871, 365, 37575, 283, 46625, 52154, 113522, 100521, 97535, 29414, 36993, 283, 1191, 22174, 138188, 313, 2650, 78271, 125520, 45925, 15528, 42219, 80045, 6377, 7533, 69362, 83728, 179363, 731, 4227, 6830, 277, 7094, 10977, 270, 371, 8551, 55019, 37547, 180295, 46979, 180389, 43359, 26353, 27259, 93274, 9684, 137210, 2702, 4166, 1956, 12454, 2472, 36957, 88110, 11113, 52454, 5522, 3624, 28016, 21923, 31935, 3921, 83728, 23815, 428, 3801, 173479, 82242, 2426, 49565, 6112, 5618, 5638, 73141, 132713, 139088, 13674, 16693, 58149, 2217, 6302, 138806, 10322, 3758, 1096, 50861, 64, 4844, 22620, 15511, 51971, 88184, 135540, 11794, 16693, 33905, 59093, 30321, 268, 17220, 61359, 82242, 2426, 100745, 33576, 13725, 16693, 13674, 16693, 122037, 2794, 26610, 268, 20923, 6079, 13262, 44472, 11537, 33905, 55433, 73868, 61359, 59093, 60369, 29370, 452, 167070, 59375, 73411, 3458, 135540, 33905, 73868, 1704, 73357, 49288, 64, 14398, 30947, 65883, 15536, 347, 33905, 30321, 268, 34281, 13725, 16693, 73411, 3458, 153047, 54304, 302, 10404, 100745, 33576, 30457, 1975, 44346, 49974, 2633, 285, 121404, 9693, 52365, 1956, 30321, 11766, 277, 4223, 24811, 32677, 2096, 6302, 55006, 12102, 1536, 88804, 6079, 313, 37766, 1334, 3458, 58488, 40898, 30321, 28626, 46625, 2472, 22843, 3458, 4844, 27069, 182993, 1334, 3458, 6556, 2426, 117829, 12271, 68023, 2650, 16693, 182108, 67649, 14144, 59965, 15966, 35093, 178102, 54589, 1334, 100397, 1064, 287, 301, 268, 76495, 182813, 4661, 19863, 99819, 1873, 11051, 2650, 78271, 67686, 40538, 2472, 24211, 189047, 260, 7719, 52153, 12112, 16693, 101777, 287, 301, 268, 69682, 143231, 1907, 22969, 2633, 46197, 178282, 268, 142849, 50055, 135540, 82242, 3921, 179418, 127676, 260, 7719, 34209, 31239, 3819, 49565, 6112, 5618, 5638, 9684, 1334, 25684, 24162, 178282, 268, 1333, 3458, 35300, 173376, 12830, 24862, 39764, 107984, 46197, 13725, 78271, 178282, 268, 179418, 161887, 744, 28448, 61112, 25008, 4844, 60265, 15690, 128154, 1536, 88804, 178282, 268, 49565, 6112, 23738, 100062, 19181, 16693, 48641, 12641, 7770, 16693, 83728, 29749, 135540, 168301, 45773, 5965, 1982, 159362, 12213, 5429, 1643, 78393, 52340, 56698, 283, 41823, 48086, 16693, 52108, 68973, 2295, 135540, 31030, 182660, 287, 301, 268, 42156, 26826, 19097, 52433, 12213, 5429, 70963, 347, 29565, 102604, 2472, 2606, 4655, 46625, 11051, 112614, 130489, 2717, 178282, 268, 108694, 162473, 1710, 43274, 97903, 181046, 91314, 9678, 18961, 63430, 19317, 27298, 68967, 12036, 54144, 23461, 17937, 19497, 3458, 80743, 43812, 288, 176204, 267, 1956, 182813, 20784, 2705, 97535, 29414]",
         "509"
        ],
        [
         "4",
         "fake",
         "radialista americano fala sobre pt vendem ilusao povo brasileiro so pensam divertir sitio radialista americano alex jones chorou falar criancas saude brasil jones citou microcefalia espalha mundo partir descaso crise politica esquerda nao faz nada so vendem ilusoes sei deveria disse jones fim video radialista falou sobre surto microcefalia nao conteve caiu lagrimas criancas nao amparo precisamos pessoas boas ajudar pessoas deixaram microcefalia crescer nesse pais",
         "0",
         "[19027, 563, 3857, 94277, 60486, 4844, 18961, 10593, 347, 129542, 3458, 57531, 59965, 813, 9696, 313, 170274, 35370, 85692, 3857, 94277, 82250, 441, 3617, 58282, 283, 39456, 17200, 117202, 880, 3525, 117829, 441, 3617, 8999, 283, 10449, 141071, 7464, 116238, 1716, 10225, 12100, 7265, 21449, 44163, 91935, 98593, 46625, 7579, 14542, 813, 10593, 347, 129542, 11537, 19678, 84082, 17699, 441, 3617, 26206, 3823, 85692, 3857, 100915, 4844, 1512, 935, 10449, 141071, 7464, 46625, 35490, 737, 142395, 9797, 81, 13804, 17200, 117202, 46625, 939, 109921, 125520, 14665, 73157, 44208, 14665, 16498, 12641, 10449, 141071, 7464, 115680, 50296, 30321]",
         "97"
        ]
       ],
       "shape": {
        "columns": 5,
        "rows": 5
       }
      },
      "text/html": [
       "<div>\n",
       "<style scoped>\n",
       "    .dataframe tbody tr th:only-of-type {\n",
       "        vertical-align: middle;\n",
       "    }\n",
       "\n",
       "    .dataframe tbody tr th {\n",
       "        vertical-align: top;\n",
       "    }\n",
       "\n",
       "    .dataframe thead th {\n",
       "        text-align: right;\n",
       "    }\n",
       "</style>\n",
       "<table border=\"1\" class=\"dataframe\">\n",
       "  <thead>\n",
       "    <tr style=\"text-align: right;\">\n",
       "      <th></th>\n",
       "      <th>label</th>\n",
       "      <th>preprocessed_news</th>\n",
       "      <th>class</th>\n",
       "      <th>tokens</th>\n",
       "      <th>num_tokens</th>\n",
       "    </tr>\n",
       "  </thead>\n",
       "  <tbody>\n",
       "    <tr>\n",
       "      <th>0</th>\n",
       "      <td>fake</td>\n",
       "      <td>katia abreu diz vai colocar expulsao moldura n...</td>\n",
       "      <td>0</td>\n",
       "      <td>[14408, 535, 692, 40962, 17259, 12156, 47242, ...</td>\n",
       "      <td>154</td>\n",
       "    </tr>\n",
       "    <tr>\n",
       "      <th>1</th>\n",
       "      <td>fake</td>\n",
       "      <td>ray peita bolsonaro conservador fake entrevist...</td>\n",
       "      <td>0</td>\n",
       "      <td>[25430, 1045, 2580, 7271, 81783, 13953, 3723, ...</td>\n",
       "      <td>210</td>\n",
       "    </tr>\n",
       "    <tr>\n",
       "      <th>2</th>\n",
       "      <td>fake</td>\n",
       "      <td>reinaldo azevedo desmascarado policia federal ...</td>\n",
       "      <td>0</td>\n",
       "      <td>[264, 1028, 2408, 130965, 191981, 731, 4227, 6...</td>\n",
       "      <td>271</td>\n",
       "    </tr>\n",
       "    <tr>\n",
       "      <th>3</th>\n",
       "      <td>fake</td>\n",
       "      <td>relatorio assustador bndes mostra dinheiro pub...</td>\n",
       "      <td>0</td>\n",
       "      <td>[6004, 31554, 180151, 3723, 287, 301, 268, 453...</td>\n",
       "      <td>509</td>\n",
       "    </tr>\n",
       "    <tr>\n",
       "      <th>4</th>\n",
       "      <td>fake</td>\n",
       "      <td>radialista americano fala sobre pt vendem ilus...</td>\n",
       "      <td>0</td>\n",
       "      <td>[19027, 563, 3857, 94277, 60486, 4844, 18961, ...</td>\n",
       "      <td>97</td>\n",
       "    </tr>\n",
       "  </tbody>\n",
       "</table>\n",
       "</div>"
      ],
      "text/plain": [
       "  label                                  preprocessed_news  class  \\\n",
       "0  fake  katia abreu diz vai colocar expulsao moldura n...      0   \n",
       "1  fake  ray peita bolsonaro conservador fake entrevist...      0   \n",
       "2  fake  reinaldo azevedo desmascarado policia federal ...      0   \n",
       "3  fake  relatorio assustador bndes mostra dinheiro pub...      0   \n",
       "4  fake  radialista americano fala sobre pt vendem ilus...      0   \n",
       "\n",
       "                                              tokens  num_tokens  \n",
       "0  [14408, 535, 692, 40962, 17259, 12156, 47242, ...         154  \n",
       "1  [25430, 1045, 2580, 7271, 81783, 13953, 3723, ...         210  \n",
       "2  [264, 1028, 2408, 130965, 191981, 731, 4227, 6...         271  \n",
       "3  [6004, 31554, 180151, 3723, 287, 301, 268, 453...         509  \n",
       "4  [19027, 563, 3857, 94277, 60486, 4844, 18961, ...          97  "
      ]
     },
     "execution_count": 23,
     "metadata": {},
     "output_type": "execute_result"
    }
   ],
   "source": [
    "news = pd.read_csv(r'..\\AI\\preprocessed\\tokenized.csv', sep='\\t')\n",
    "news['tokens'] = news['tokens'].apply(ast.literal_eval)\n",
    "news.head()"
   ]
  },
  {
   "cell_type": "markdown",
   "id": "1180cff0",
   "metadata": {},
   "source": [
    "## **Vetorização**"
   ]
  },
  {
   "cell_type": "code",
   "execution_count": 24,
   "id": "0c649c9e",
   "metadata": {},
   "outputs": [],
   "source": [
    "def slice_tokens(token, max_len):\n",
    "    if len(token) > max_len:\n",
    "        token = token[:max_len]\n",
    "    elif len(token) < max_len:\n",
    "        token = token + [0]*(max_len-len(token))\n",
    "    \n",
    "    return token"
   ]
  },
  {
   "cell_type": "markdown",
   "id": "5e9d5eea",
   "metadata": {},
   "source": [
    "### com 128 tokens"
   ]
  },
  {
   "cell_type": "code",
   "execution_count": 26,
   "id": "608fc3be",
   "metadata": {},
   "outputs": [],
   "source": [
    "max_len = 128\n",
    "news['limited_tokens'] = news['tokens'].apply(lambda token: slice_tokens(token, max_len))"
   ]
  },
  {
   "cell_type": "code",
   "execution_count": 27,
   "id": "707ad014",
   "metadata": {},
   "outputs": [
    {
     "data": {
      "text/plain": [
       "0       [14408, 535, 692, 40962, 17259, 12156, 47242, ...\n",
       "1       [25430, 1045, 2580, 7271, 81783, 13953, 3723, ...\n",
       "2       [264, 1028, 2408, 130965, 191981, 731, 4227, 6...\n",
       "3       [6004, 31554, 180151, 3723, 287, 301, 268, 453...\n",
       "4       [19027, 563, 3857, 94277, 60486, 4844, 18961, ...\n",
       "                              ...                        \n",
       "7195    [73, 192284, 26091, 270, 2424, 1375, 3458, 103...\n",
       "7196    [1133, 259, 17259, 139730, 283, 27291, 33140, ...\n",
       "7197    [630, 302, 359, 23205, 5086, 6302, 1589, 259, ...\n",
       "7198    [977, 18786, 31954, 38122, 18977, 893, 3458, 4...\n",
       "7199    [59835, 1190, 91935, 17259, 59965, 81089, 6768...\n",
       "Name: limited_tokens, Length: 7200, dtype: object"
      ]
     },
     "execution_count": 27,
     "metadata": {},
     "output_type": "execute_result"
    }
   ],
   "source": [
    "news['limited_tokens']"
   ]
  },
  {
   "cell_type": "markdown",
   "id": "7e567a13",
   "metadata": {},
   "source": [
    "## **Treinamento**"
   ]
  },
  {
   "cell_type": "code",
   "execution_count": 37,
   "id": "87c0bf91",
   "metadata": {},
   "outputs": [],
   "source": [
    "x = np.array(news['limited_tokens'].tolist())\n",
    "y = np.array(news['class'])"
   ]
  },
  {
   "cell_type": "code",
   "execution_count": 52,
   "id": "456695a7",
   "metadata": {},
   "outputs": [],
   "source": [
    "x_train, x_test, y_train, y_test = train_test_split(x, y, train_size=0.8)"
   ]
  },
  {
   "cell_type": "code",
   "execution_count": 56,
   "id": "17216ec8",
   "metadata": {},
   "outputs": [
    {
     "name": "stdout",
     "output_type": "stream",
     "text": [
      "(5760, 128)\n",
      "(1440, 128)\n",
      "(5760,)\n",
      "(1440,)\n"
     ]
    }
   ],
   "source": [
    "for data in [x_train, x_test, y_train, y_test]:\n",
    "    print(data.shape)"
   ]
  },
  {
   "cell_type": "markdown",
   "id": "a1823ae9",
   "metadata": {},
   "source": [
    "### Regressão Logistica"
   ]
  },
  {
   "cell_type": "code",
   "execution_count": 61,
   "id": "a99ddb42",
   "metadata": {},
   "outputs": [
    {
     "data": {
      "text/html": [
       "<style>#sk-container-id-1 {\n",
       "  /* Definition of color scheme common for light and dark mode */\n",
       "  --sklearn-color-text: #000;\n",
       "  --sklearn-color-text-muted: #666;\n",
       "  --sklearn-color-line: gray;\n",
       "  /* Definition of color scheme for unfitted estimators */\n",
       "  --sklearn-color-unfitted-level-0: #fff5e6;\n",
       "  --sklearn-color-unfitted-level-1: #f6e4d2;\n",
       "  --sklearn-color-unfitted-level-2: #ffe0b3;\n",
       "  --sklearn-color-unfitted-level-3: chocolate;\n",
       "  /* Definition of color scheme for fitted estimators */\n",
       "  --sklearn-color-fitted-level-0: #f0f8ff;\n",
       "  --sklearn-color-fitted-level-1: #d4ebff;\n",
       "  --sklearn-color-fitted-level-2: #b3dbfd;\n",
       "  --sklearn-color-fitted-level-3: cornflowerblue;\n",
       "\n",
       "  /* Specific color for light theme */\n",
       "  --sklearn-color-text-on-default-background: var(--sg-text-color, var(--theme-code-foreground, var(--jp-content-font-color1, black)));\n",
       "  --sklearn-color-background: var(--sg-background-color, var(--theme-background, var(--jp-layout-color0, white)));\n",
       "  --sklearn-color-border-box: var(--sg-text-color, var(--theme-code-foreground, var(--jp-content-font-color1, black)));\n",
       "  --sklearn-color-icon: #696969;\n",
       "\n",
       "  @media (prefers-color-scheme: dark) {\n",
       "    /* Redefinition of color scheme for dark theme */\n",
       "    --sklearn-color-text-on-default-background: var(--sg-text-color, var(--theme-code-foreground, var(--jp-content-font-color1, white)));\n",
       "    --sklearn-color-background: var(--sg-background-color, var(--theme-background, var(--jp-layout-color0, #111)));\n",
       "    --sklearn-color-border-box: var(--sg-text-color, var(--theme-code-foreground, var(--jp-content-font-color1, white)));\n",
       "    --sklearn-color-icon: #878787;\n",
       "  }\n",
       "}\n",
       "\n",
       "#sk-container-id-1 {\n",
       "  color: var(--sklearn-color-text);\n",
       "}\n",
       "\n",
       "#sk-container-id-1 pre {\n",
       "  padding: 0;\n",
       "}\n",
       "\n",
       "#sk-container-id-1 input.sk-hidden--visually {\n",
       "  border: 0;\n",
       "  clip: rect(1px 1px 1px 1px);\n",
       "  clip: rect(1px, 1px, 1px, 1px);\n",
       "  height: 1px;\n",
       "  margin: -1px;\n",
       "  overflow: hidden;\n",
       "  padding: 0;\n",
       "  position: absolute;\n",
       "  width: 1px;\n",
       "}\n",
       "\n",
       "#sk-container-id-1 div.sk-dashed-wrapped {\n",
       "  border: 1px dashed var(--sklearn-color-line);\n",
       "  margin: 0 0.4em 0.5em 0.4em;\n",
       "  box-sizing: border-box;\n",
       "  padding-bottom: 0.4em;\n",
       "  background-color: var(--sklearn-color-background);\n",
       "}\n",
       "\n",
       "#sk-container-id-1 div.sk-container {\n",
       "  /* jupyter's `normalize.less` sets `[hidden] { display: none; }`\n",
       "     but bootstrap.min.css set `[hidden] { display: none !important; }`\n",
       "     so we also need the `!important` here to be able to override the\n",
       "     default hidden behavior on the sphinx rendered scikit-learn.org.\n",
       "     See: https://github.com/scikit-learn/scikit-learn/issues/21755 */\n",
       "  display: inline-block !important;\n",
       "  position: relative;\n",
       "}\n",
       "\n",
       "#sk-container-id-1 div.sk-text-repr-fallback {\n",
       "  display: none;\n",
       "}\n",
       "\n",
       "div.sk-parallel-item,\n",
       "div.sk-serial,\n",
       "div.sk-item {\n",
       "  /* draw centered vertical line to link estimators */\n",
       "  background-image: linear-gradient(var(--sklearn-color-text-on-default-background), var(--sklearn-color-text-on-default-background));\n",
       "  background-size: 2px 100%;\n",
       "  background-repeat: no-repeat;\n",
       "  background-position: center center;\n",
       "}\n",
       "\n",
       "/* Parallel-specific style estimator block */\n",
       "\n",
       "#sk-container-id-1 div.sk-parallel-item::after {\n",
       "  content: \"\";\n",
       "  width: 100%;\n",
       "  border-bottom: 2px solid var(--sklearn-color-text-on-default-background);\n",
       "  flex-grow: 1;\n",
       "}\n",
       "\n",
       "#sk-container-id-1 div.sk-parallel {\n",
       "  display: flex;\n",
       "  align-items: stretch;\n",
       "  justify-content: center;\n",
       "  background-color: var(--sklearn-color-background);\n",
       "  position: relative;\n",
       "}\n",
       "\n",
       "#sk-container-id-1 div.sk-parallel-item {\n",
       "  display: flex;\n",
       "  flex-direction: column;\n",
       "}\n",
       "\n",
       "#sk-container-id-1 div.sk-parallel-item:first-child::after {\n",
       "  align-self: flex-end;\n",
       "  width: 50%;\n",
       "}\n",
       "\n",
       "#sk-container-id-1 div.sk-parallel-item:last-child::after {\n",
       "  align-self: flex-start;\n",
       "  width: 50%;\n",
       "}\n",
       "\n",
       "#sk-container-id-1 div.sk-parallel-item:only-child::after {\n",
       "  width: 0;\n",
       "}\n",
       "\n",
       "/* Serial-specific style estimator block */\n",
       "\n",
       "#sk-container-id-1 div.sk-serial {\n",
       "  display: flex;\n",
       "  flex-direction: column;\n",
       "  align-items: center;\n",
       "  background-color: var(--sklearn-color-background);\n",
       "  padding-right: 1em;\n",
       "  padding-left: 1em;\n",
       "}\n",
       "\n",
       "\n",
       "/* Toggleable style: style used for estimator/Pipeline/ColumnTransformer box that is\n",
       "clickable and can be expanded/collapsed.\n",
       "- Pipeline and ColumnTransformer use this feature and define the default style\n",
       "- Estimators will overwrite some part of the style using the `sk-estimator` class\n",
       "*/\n",
       "\n",
       "/* Pipeline and ColumnTransformer style (default) */\n",
       "\n",
       "#sk-container-id-1 div.sk-toggleable {\n",
       "  /* Default theme specific background. It is overwritten whether we have a\n",
       "  specific estimator or a Pipeline/ColumnTransformer */\n",
       "  background-color: var(--sklearn-color-background);\n",
       "}\n",
       "\n",
       "/* Toggleable label */\n",
       "#sk-container-id-1 label.sk-toggleable__label {\n",
       "  cursor: pointer;\n",
       "  display: flex;\n",
       "  width: 100%;\n",
       "  margin-bottom: 0;\n",
       "  padding: 0.5em;\n",
       "  box-sizing: border-box;\n",
       "  text-align: center;\n",
       "  align-items: start;\n",
       "  justify-content: space-between;\n",
       "  gap: 0.5em;\n",
       "}\n",
       "\n",
       "#sk-container-id-1 label.sk-toggleable__label .caption {\n",
       "  font-size: 0.6rem;\n",
       "  font-weight: lighter;\n",
       "  color: var(--sklearn-color-text-muted);\n",
       "}\n",
       "\n",
       "#sk-container-id-1 label.sk-toggleable__label-arrow:before {\n",
       "  /* Arrow on the left of the label */\n",
       "  content: \"▸\";\n",
       "  float: left;\n",
       "  margin-right: 0.25em;\n",
       "  color: var(--sklearn-color-icon);\n",
       "}\n",
       "\n",
       "#sk-container-id-1 label.sk-toggleable__label-arrow:hover:before {\n",
       "  color: var(--sklearn-color-text);\n",
       "}\n",
       "\n",
       "/* Toggleable content - dropdown */\n",
       "\n",
       "#sk-container-id-1 div.sk-toggleable__content {\n",
       "  max-height: 0;\n",
       "  max-width: 0;\n",
       "  overflow: hidden;\n",
       "  text-align: left;\n",
       "  /* unfitted */\n",
       "  background-color: var(--sklearn-color-unfitted-level-0);\n",
       "}\n",
       "\n",
       "#sk-container-id-1 div.sk-toggleable__content.fitted {\n",
       "  /* fitted */\n",
       "  background-color: var(--sklearn-color-fitted-level-0);\n",
       "}\n",
       "\n",
       "#sk-container-id-1 div.sk-toggleable__content pre {\n",
       "  margin: 0.2em;\n",
       "  border-radius: 0.25em;\n",
       "  color: var(--sklearn-color-text);\n",
       "  /* unfitted */\n",
       "  background-color: var(--sklearn-color-unfitted-level-0);\n",
       "}\n",
       "\n",
       "#sk-container-id-1 div.sk-toggleable__content.fitted pre {\n",
       "  /* unfitted */\n",
       "  background-color: var(--sklearn-color-fitted-level-0);\n",
       "}\n",
       "\n",
       "#sk-container-id-1 input.sk-toggleable__control:checked~div.sk-toggleable__content {\n",
       "  /* Expand drop-down */\n",
       "  max-height: 200px;\n",
       "  max-width: 100%;\n",
       "  overflow: auto;\n",
       "}\n",
       "\n",
       "#sk-container-id-1 input.sk-toggleable__control:checked~label.sk-toggleable__label-arrow:before {\n",
       "  content: \"▾\";\n",
       "}\n",
       "\n",
       "/* Pipeline/ColumnTransformer-specific style */\n",
       "\n",
       "#sk-container-id-1 div.sk-label input.sk-toggleable__control:checked~label.sk-toggleable__label {\n",
       "  color: var(--sklearn-color-text);\n",
       "  background-color: var(--sklearn-color-unfitted-level-2);\n",
       "}\n",
       "\n",
       "#sk-container-id-1 div.sk-label.fitted input.sk-toggleable__control:checked~label.sk-toggleable__label {\n",
       "  background-color: var(--sklearn-color-fitted-level-2);\n",
       "}\n",
       "\n",
       "/* Estimator-specific style */\n",
       "\n",
       "/* Colorize estimator box */\n",
       "#sk-container-id-1 div.sk-estimator input.sk-toggleable__control:checked~label.sk-toggleable__label {\n",
       "  /* unfitted */\n",
       "  background-color: var(--sklearn-color-unfitted-level-2);\n",
       "}\n",
       "\n",
       "#sk-container-id-1 div.sk-estimator.fitted input.sk-toggleable__control:checked~label.sk-toggleable__label {\n",
       "  /* fitted */\n",
       "  background-color: var(--sklearn-color-fitted-level-2);\n",
       "}\n",
       "\n",
       "#sk-container-id-1 div.sk-label label.sk-toggleable__label,\n",
       "#sk-container-id-1 div.sk-label label {\n",
       "  /* The background is the default theme color */\n",
       "  color: var(--sklearn-color-text-on-default-background);\n",
       "}\n",
       "\n",
       "/* On hover, darken the color of the background */\n",
       "#sk-container-id-1 div.sk-label:hover label.sk-toggleable__label {\n",
       "  color: var(--sklearn-color-text);\n",
       "  background-color: var(--sklearn-color-unfitted-level-2);\n",
       "}\n",
       "\n",
       "/* Label box, darken color on hover, fitted */\n",
       "#sk-container-id-1 div.sk-label.fitted:hover label.sk-toggleable__label.fitted {\n",
       "  color: var(--sklearn-color-text);\n",
       "  background-color: var(--sklearn-color-fitted-level-2);\n",
       "}\n",
       "\n",
       "/* Estimator label */\n",
       "\n",
       "#sk-container-id-1 div.sk-label label {\n",
       "  font-family: monospace;\n",
       "  font-weight: bold;\n",
       "  display: inline-block;\n",
       "  line-height: 1.2em;\n",
       "}\n",
       "\n",
       "#sk-container-id-1 div.sk-label-container {\n",
       "  text-align: center;\n",
       "}\n",
       "\n",
       "/* Estimator-specific */\n",
       "#sk-container-id-1 div.sk-estimator {\n",
       "  font-family: monospace;\n",
       "  border: 1px dotted var(--sklearn-color-border-box);\n",
       "  border-radius: 0.25em;\n",
       "  box-sizing: border-box;\n",
       "  margin-bottom: 0.5em;\n",
       "  /* unfitted */\n",
       "  background-color: var(--sklearn-color-unfitted-level-0);\n",
       "}\n",
       "\n",
       "#sk-container-id-1 div.sk-estimator.fitted {\n",
       "  /* fitted */\n",
       "  background-color: var(--sklearn-color-fitted-level-0);\n",
       "}\n",
       "\n",
       "/* on hover */\n",
       "#sk-container-id-1 div.sk-estimator:hover {\n",
       "  /* unfitted */\n",
       "  background-color: var(--sklearn-color-unfitted-level-2);\n",
       "}\n",
       "\n",
       "#sk-container-id-1 div.sk-estimator.fitted:hover {\n",
       "  /* fitted */\n",
       "  background-color: var(--sklearn-color-fitted-level-2);\n",
       "}\n",
       "\n",
       "/* Specification for estimator info (e.g. \"i\" and \"?\") */\n",
       "\n",
       "/* Common style for \"i\" and \"?\" */\n",
       "\n",
       ".sk-estimator-doc-link,\n",
       "a:link.sk-estimator-doc-link,\n",
       "a:visited.sk-estimator-doc-link {\n",
       "  float: right;\n",
       "  font-size: smaller;\n",
       "  line-height: 1em;\n",
       "  font-family: monospace;\n",
       "  background-color: var(--sklearn-color-background);\n",
       "  border-radius: 1em;\n",
       "  height: 1em;\n",
       "  width: 1em;\n",
       "  text-decoration: none !important;\n",
       "  margin-left: 0.5em;\n",
       "  text-align: center;\n",
       "  /* unfitted */\n",
       "  border: var(--sklearn-color-unfitted-level-1) 1pt solid;\n",
       "  color: var(--sklearn-color-unfitted-level-1);\n",
       "}\n",
       "\n",
       ".sk-estimator-doc-link.fitted,\n",
       "a:link.sk-estimator-doc-link.fitted,\n",
       "a:visited.sk-estimator-doc-link.fitted {\n",
       "  /* fitted */\n",
       "  border: var(--sklearn-color-fitted-level-1) 1pt solid;\n",
       "  color: var(--sklearn-color-fitted-level-1);\n",
       "}\n",
       "\n",
       "/* On hover */\n",
       "div.sk-estimator:hover .sk-estimator-doc-link:hover,\n",
       ".sk-estimator-doc-link:hover,\n",
       "div.sk-label-container:hover .sk-estimator-doc-link:hover,\n",
       ".sk-estimator-doc-link:hover {\n",
       "  /* unfitted */\n",
       "  background-color: var(--sklearn-color-unfitted-level-3);\n",
       "  color: var(--sklearn-color-background);\n",
       "  text-decoration: none;\n",
       "}\n",
       "\n",
       "div.sk-estimator.fitted:hover .sk-estimator-doc-link.fitted:hover,\n",
       ".sk-estimator-doc-link.fitted:hover,\n",
       "div.sk-label-container:hover .sk-estimator-doc-link.fitted:hover,\n",
       ".sk-estimator-doc-link.fitted:hover {\n",
       "  /* fitted */\n",
       "  background-color: var(--sklearn-color-fitted-level-3);\n",
       "  color: var(--sklearn-color-background);\n",
       "  text-decoration: none;\n",
       "}\n",
       "\n",
       "/* Span, style for the box shown on hovering the info icon */\n",
       ".sk-estimator-doc-link span {\n",
       "  display: none;\n",
       "  z-index: 9999;\n",
       "  position: relative;\n",
       "  font-weight: normal;\n",
       "  right: .2ex;\n",
       "  padding: .5ex;\n",
       "  margin: .5ex;\n",
       "  width: min-content;\n",
       "  min-width: 20ex;\n",
       "  max-width: 50ex;\n",
       "  color: var(--sklearn-color-text);\n",
       "  box-shadow: 2pt 2pt 4pt #999;\n",
       "  /* unfitted */\n",
       "  background: var(--sklearn-color-unfitted-level-0);\n",
       "  border: .5pt solid var(--sklearn-color-unfitted-level-3);\n",
       "}\n",
       "\n",
       ".sk-estimator-doc-link.fitted span {\n",
       "  /* fitted */\n",
       "  background: var(--sklearn-color-fitted-level-0);\n",
       "  border: var(--sklearn-color-fitted-level-3);\n",
       "}\n",
       "\n",
       ".sk-estimator-doc-link:hover span {\n",
       "  display: block;\n",
       "}\n",
       "\n",
       "/* \"?\"-specific style due to the `<a>` HTML tag */\n",
       "\n",
       "#sk-container-id-1 a.estimator_doc_link {\n",
       "  float: right;\n",
       "  font-size: 1rem;\n",
       "  line-height: 1em;\n",
       "  font-family: monospace;\n",
       "  background-color: var(--sklearn-color-background);\n",
       "  border-radius: 1rem;\n",
       "  height: 1rem;\n",
       "  width: 1rem;\n",
       "  text-decoration: none;\n",
       "  /* unfitted */\n",
       "  color: var(--sklearn-color-unfitted-level-1);\n",
       "  border: var(--sklearn-color-unfitted-level-1) 1pt solid;\n",
       "}\n",
       "\n",
       "#sk-container-id-1 a.estimator_doc_link.fitted {\n",
       "  /* fitted */\n",
       "  border: var(--sklearn-color-fitted-level-1) 1pt solid;\n",
       "  color: var(--sklearn-color-fitted-level-1);\n",
       "}\n",
       "\n",
       "/* On hover */\n",
       "#sk-container-id-1 a.estimator_doc_link:hover {\n",
       "  /* unfitted */\n",
       "  background-color: var(--sklearn-color-unfitted-level-3);\n",
       "  color: var(--sklearn-color-background);\n",
       "  text-decoration: none;\n",
       "}\n",
       "\n",
       "#sk-container-id-1 a.estimator_doc_link.fitted:hover {\n",
       "  /* fitted */\n",
       "  background-color: var(--sklearn-color-fitted-level-3);\n",
       "}\n",
       "</style><div id=\"sk-container-id-1\" class=\"sk-top-container\"><div class=\"sk-text-repr-fallback\"><pre>LogisticRegression()</pre><b>In a Jupyter environment, please rerun this cell to show the HTML representation or trust the notebook. <br />On GitHub, the HTML representation is unable to render, please try loading this page with nbviewer.org.</b></div><div class=\"sk-container\" hidden><div class=\"sk-item\"><div class=\"sk-estimator fitted sk-toggleable\"><input class=\"sk-toggleable__control sk-hidden--visually\" id=\"sk-estimator-id-1\" type=\"checkbox\" checked><label for=\"sk-estimator-id-1\" class=\"sk-toggleable__label fitted sk-toggleable__label-arrow\"><div><div>LogisticRegression</div></div><div><a class=\"sk-estimator-doc-link fitted\" rel=\"noreferrer\" target=\"_blank\" href=\"https://scikit-learn.org/1.6/modules/generated/sklearn.linear_model.LogisticRegression.html\">?<span>Documentation for LogisticRegression</span></a><span class=\"sk-estimator-doc-link fitted\">i<span>Fitted</span></span></div></label><div class=\"sk-toggleable__content fitted\"><pre>LogisticRegression()</pre></div> </div></div></div></div>"
      ],
      "text/plain": [
       "LogisticRegression()"
      ]
     },
     "execution_count": 61,
     "metadata": {},
     "output_type": "execute_result"
    }
   ],
   "source": [
    "from sklearn.linear_model import LogisticRegression\n",
    "\n",
    "lr = LogisticRegression()\n",
    "lr.fit(x_train,y_train)"
   ]
  },
  {
   "cell_type": "code",
   "execution_count": 65,
   "id": "16e98b20",
   "metadata": {},
   "outputs": [],
   "source": [
    "y_predict = lr.predict(x_test)"
   ]
  },
  {
   "cell_type": "code",
   "execution_count": 66,
   "id": "e1f819c2",
   "metadata": {},
   "outputs": [
    {
     "data": {
      "text/plain": [
       "0.6409722222222223"
      ]
     },
     "execution_count": 66,
     "metadata": {},
     "output_type": "execute_result"
    }
   ],
   "source": [
    "lr.score(x_test,y_test)"
   ]
  },
  {
   "cell_type": "code",
   "execution_count": 70,
   "id": "bfc6b920",
   "metadata": {},
   "outputs": [
    {
     "name": "stdout",
     "output_type": "stream",
     "text": [
      "              precision    recall  f1-score   support\n",
      "\n",
      "           0       0.64      0.59      0.61       701\n",
      "           1       0.64      0.69      0.66       739\n",
      "\n",
      "    accuracy                           0.64      1440\n",
      "   macro avg       0.64      0.64      0.64      1440\n",
      "weighted avg       0.64      0.64      0.64      1440\n",
      "\n"
     ]
    }
   ],
   "source": [
    "print(classification_report(y_test, y_predict))"
   ]
  }
 ],
 "metadata": {
  "kernelspec": {
   "display_name": "IAra",
   "language": "python",
   "name": "python3"
  },
  "language_info": {
   "codemirror_mode": {
    "name": "ipython",
    "version": 3
   },
   "file_extension": ".py",
   "mimetype": "text/x-python",
   "name": "python",
   "nbconvert_exporter": "python",
   "pygments_lexer": "ipython3",
   "version": "3.12.9"
  }
 },
 "nbformat": 4,
 "nbformat_minor": 5
}
